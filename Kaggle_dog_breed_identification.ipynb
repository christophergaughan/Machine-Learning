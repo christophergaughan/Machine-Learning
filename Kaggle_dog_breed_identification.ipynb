{
  "nbformat": 4,
  "nbformat_minor": 0,
  "metadata": {
    "colab": {
      "name": "Kaggle-dog-breed-identification.ipynb",
      "provenance": [],
      "collapsed_sections": [],
      "machine_shape": "hm",
      "authorship_tag": "ABX9TyPPMLQI9lkww9HSgwAWgFu2",
      "include_colab_link": true
    },
    "kernelspec": {
      "name": "python3",
      "display_name": "Python 3"
    },
    "language_info": {
      "name": "python"
    },
    "accelerator": "GPU"
  },
  "cells": [
    {
      "cell_type": "markdown",
      "metadata": {
        "id": "view-in-github",
        "colab_type": "text"
      },
      "source": [
        "<a href=\"https://colab.research.google.com/github/christophergaughan/Machine-Learning/blob/master/Kaggle_dog_breed_identification.ipynb\" target=\"_parent\"><img src=\"https://colab.research.google.com/assets/colab-badge.svg\" alt=\"Open In Colab\"/></a>"
      ]
    },
    {
      "cell_type": "code",
      "metadata": {
        "id": "yn2k4XwCVIwN"
      },
      "source": [
        ""
      ],
      "execution_count": null,
      "outputs": []
    },
    {
      "cell_type": "markdown",
      "metadata": {
        "id": "rEvidre-XVOC"
      },
      "source": [
        "# Dog Breed Classification from Images Using TensorFlow\n",
        "***This notebook builds an end-to-end multi-class image classifier from Tensorflow 2.0 and  TensorFlow Hub***\n",
        "\n",
        "## 1. Problem\n",
        "\n",
        "Identifying a breed of a dog given the image of a dog.\n",
        "\n",
        "If I take a picture of a dog, can I use this program to identfy its breed??\n",
        "\n",
        "## 2. Data\n",
        "\n",
        "The data we're using comes from the Kaggle data set from the Dog Breed Identificstion Competitition: https://www.kaggle.com/c/dog-breed-identification\n",
        "\n",
        "## 3. Evaluation\n",
        "\n",
        "Classification (think of accuracy): Specifically the Kaggle competition was looking at \"Mult-Class_Log_Loss\"\n",
        "\n",
        "L_{\\log}(y, p) = -(y \\log (p) + (1 - y) \\log (1 - p))\n",
        "\n",
        "For each image in the test set, you must predict a probability for each of the different breeds. The file should contain a header and have the following format:\n",
        "\n",
        "> id,affenpinscher,afghan_hound,..,yorkshire_terrier\n",
        "000621fb3cbb32d8935728e48679680e,0.0083,0.0,...,0.0083\n",
        "etc.\n",
        "\n",
        "So the evaluation is a file with prediction probabilities for each dog breed of each test image.\n",
        "\n",
        "see:    \n",
        "https://www.kaggle.com/c/dog-breed-identification/overview/evaluation\n",
        "\n",
        "## 4. Features\n",
        "\n",
        "Some information about the data:\n",
        "\n",
        "* We're dealing with images (i.e. unstructured data). So it's probably best that we are using deep-learning/transfer learning\n",
        "* 120 breeds of dogs (i.e. 120 different classes)\n",
        "* There are 10222 unique values or training images (these images have labels) and 10358 images in the test set (i.e. images with NO LABELS b/c we'll want to predict them)\n",
        "\n",
        "\n",
        "\n"
      ]
    },
    {
      "cell_type": "code",
      "metadata": {
        "colab": {
          "base_uri": "https://localhost:8080/"
        },
        "id": "LIRCxaKTVM4D",
        "outputId": "750c270f-db16-487b-cec6-9792d720e6c3"
      },
      "source": [
        "from google.colab import drive\n",
        "drive.mount('/gdrive')"
      ],
      "execution_count": 1,
      "outputs": [
        {
          "output_type": "stream",
          "name": "stdout",
          "text": [
            "Mounted at /gdrive\n"
          ]
        }
      ]
    },
    {
      "cell_type": "code",
      "metadata": {
        "colab": {
          "base_uri": "https://localhost:8080/"
        },
        "id": "ZNuxO83cVM4G",
        "outputId": "cd897655-0c78-4901-f634-0d0f9d959780"
      },
      "source": [
        "ls -la\n"
      ],
      "execution_count": 2,
      "outputs": [
        {
          "output_type": "stream",
          "name": "stdout",
          "text": [
            "total 16\n",
            "drwxr-xr-x 1 root root 4096 Nov 18 14:36 \u001b[0m\u001b[01;34m.\u001b[0m/\n",
            "drwxr-xr-x 1 root root 4096 Nov 29 01:36 \u001b[01;34m..\u001b[0m/\n",
            "drwxr-xr-x 4 root root 4096 Nov 18 14:35 \u001b[01;34m.config\u001b[0m/\n",
            "drwxr-xr-x 1 root root 4096 Nov 18 14:36 \u001b[01;34msample_data\u001b[0m/\n"
          ]
        }
      ]
    },
    {
      "cell_type": "code",
      "metadata": {
        "colab": {
          "base_uri": "https://localhost:8080/"
        },
        "id": "XZJPaENjVduZ",
        "outputId": "97d621a4-0001-46a3-f8c5-b38720fa6628"
      },
      "source": [
        "cd ../"
      ],
      "execution_count": 3,
      "outputs": [
        {
          "output_type": "stream",
          "name": "stdout",
          "text": [
            "/\n"
          ]
        }
      ]
    },
    {
      "cell_type": "code",
      "metadata": {
        "colab": {
          "base_uri": "https://localhost:8080/"
        },
        "id": "rHJYm80oVnyu",
        "outputId": "923834a6-1da0-4d9c-a137-4f9edcd780dd"
      },
      "source": [
        "ls -la\n"
      ],
      "execution_count": 4,
      "outputs": [
        {
          "output_type": "stream",
          "name": "stdout",
          "text": [
            "total 116\n",
            "drwxr-xr-x   1 root root 4096 Nov 29 01:36 \u001b[0m\u001b[01;34m.\u001b[0m/\n",
            "drwxr-xr-x   1 root root 4096 Nov 29 01:36 \u001b[01;34m..\u001b[0m/\n",
            "drwxr-xr-x   1 root root 4096 Nov 18 14:27 \u001b[01;34mbin\u001b[0m/\n",
            "drwxr-xr-x   2 root root 4096 Apr 24  2018 \u001b[01;34mboot\u001b[0m/\n",
            "drwxr-xr-x   1 root root 4096 Nov 18 14:36 \u001b[01;34mcontent\u001b[0m/\n",
            "drwxr-xr-x   1 root root 4096 Nov 23 14:12 \u001b[01;34mdatalab\u001b[0m/\n",
            "drwxr-xr-x   5 root root  360 Nov 29 01:33 \u001b[01;34mdev\u001b[0m/\n",
            "-rwxr-xr-x   1 root root    0 Nov 29 01:33 \u001b[01;32m.dockerenv\u001b[0m*\n",
            "drwxr-xr-x   1 root root 4096 Nov 29 01:33 \u001b[01;34metc\u001b[0m/\n",
            "drwx------   5 root root 4096 Nov 29 01:35 \u001b[01;34mgdrive\u001b[0m/\n",
            "drwxr-xr-x   2 root root 4096 Apr 24  2018 \u001b[01;34mhome\u001b[0m/\n",
            "drwxr-xr-x   1 root root 4096 Nov 18 14:28 \u001b[01;34mlib\u001b[0m/\n",
            "drwxr-xr-x   2 root root 4096 Nov 18 14:15 \u001b[01;34mlib32\u001b[0m/\n",
            "drwxr-xr-x   1 root root 4096 Nov 18 14:15 \u001b[01;34mlib64\u001b[0m/\n",
            "drwxr-xr-x   2 root root 4096 Nov 19  2020 \u001b[01;34mmedia\u001b[0m/\n",
            "drwxr-xr-x   2 root root 4096 Nov 19  2020 \u001b[01;34mmnt\u001b[0m/\n",
            "drwxr-xr-x   1 root root 4096 Nov 18 14:29 \u001b[01;34mopt\u001b[0m/\n",
            "dr-xr-xr-x 179 root root    0 Nov 29 01:33 \u001b[01;34mproc\u001b[0m/\n",
            "drwxr-xr-x  14 root root 4096 Nov 18 14:29 \u001b[01;34mpython-apt\u001b[0m/\n",
            "drwx------   1 root root 4096 Nov 29 01:33 \u001b[01;34mroot\u001b[0m/\n",
            "drwxr-xr-x   1 root root 4096 Nov 18 14:18 \u001b[01;34mrun\u001b[0m/\n",
            "drwxr-xr-x   1 root root 4096 Nov 29 01:33 \u001b[01;34msbin\u001b[0m/\n",
            "drwxr-xr-x   2 root root 4096 Nov 19  2020 \u001b[01;34msrv\u001b[0m/\n",
            "dr-xr-xr-x  12 root root    0 Nov 29 01:33 \u001b[01;34msys\u001b[0m/\n",
            "drwxr-xr-x   3 root root 4096 Nov 19 14:35 \u001b[01;34mtensorflow-1.15.2\u001b[0m/\n",
            "drwxrwxrwt   1 root root 4096 Nov 29 01:35 \u001b[30;42mtmp\u001b[0m/\n",
            "drwxr-xr-x   1 root root 4096 Nov 23 14:12 \u001b[01;34mtools\u001b[0m/\n",
            "drwxr-xr-x   1 root root 4096 Nov 18 14:29 \u001b[01;34musr\u001b[0m/\n",
            "drwxr-xr-x   1 root root 4096 Nov 29 01:33 \u001b[01;34mvar\u001b[0m/\n"
          ]
        }
      ]
    },
    {
      "cell_type": "code",
      "metadata": {
        "colab": {
          "base_uri": "https://localhost:8080/"
        },
        "id": "y3lztpgXVpOA",
        "outputId": "6fde470f-2e67-4b42-f15c-0a34c4329b1e"
      },
      "source": [
        "cd gdrive/"
      ],
      "execution_count": 5,
      "outputs": [
        {
          "output_type": "stream",
          "name": "stdout",
          "text": [
            "/gdrive\n"
          ]
        }
      ]
    },
    {
      "cell_type": "code",
      "metadata": {
        "colab": {
          "base_uri": "https://localhost:8080/"
        },
        "id": "E4pi0RI2Vus8",
        "outputId": "51b8f383-c455-424e-c890-eca0a96de323"
      },
      "source": [
        "ls -ltr"
      ],
      "execution_count": 6,
      "outputs": [
        {
          "output_type": "stream",
          "name": "stdout",
          "text": [
            "total 4\n",
            "drwx------ 15 root root 4096 Nov 29 01:35 \u001b[0m\u001b[01;34mMyDrive\u001b[0m/\n"
          ]
        }
      ]
    },
    {
      "cell_type": "code",
      "metadata": {
        "colab": {
          "base_uri": "https://localhost:8080/"
        },
        "id": "YLY_o2fKVwG6",
        "outputId": "8fdebdf4-17b6-4d82-ad06-2847f21b9fc7"
      },
      "source": [
        "cd MyDrive/"
      ],
      "execution_count": 7,
      "outputs": [
        {
          "output_type": "stream",
          "name": "stdout",
          "text": [
            "/gdrive/MyDrive\n"
          ]
        }
      ]
    },
    {
      "cell_type": "code",
      "metadata": {
        "colab": {
          "base_uri": "https://localhost:8080/"
        },
        "id": "hLavWEgnVyoD",
        "outputId": "ce8e9552-74f9-46d4-db58-78a7d3a02220"
      },
      "source": [
        "ls -la\n"
      ],
      "execution_count": 8,
      "outputs": [
        {
          "output_type": "stream",
          "name": "stdout",
          "text": [
            "total 228341\n",
            "-rw------- 1 root root   257215 Nov  7  2014 '2014-07-03 11.26.24.jpg'\n",
            "-rw------- 1 root root  7462037 Jun 20  2017  321AA485-724B-4214-BC7B-E8397CD418E3-d94c3902-3536-4bc1-96e9-6d615b34a99b.mov\n",
            "-rw------- 1 root root  9704223 Jun 20  2017  42D58BA5-132D-4A56-AD0B-28C9DDB71A7D-5fab10bb-a7a6-457a-a62e-1984b579937f.mov\n",
            "-rw------- 1 root root  9609389 Jun 20  2017  42D58BA5-132D-4A56-AD0B-28C9DDB71A7D-8298803d-4113-4fc2-8224-d7029a51c504.mov\n",
            "-rw------- 1 root root  8018612 Jun 20  2017  90DB1D42-9616-46D4-B8E9-807F9F779FEE-8298803d-4113-4fc2-8224-d7029a51c504.mov\n",
            "-rw------- 1 root root  7926493 Jun 20  2017  90DB1D42-9616-46D4-B8E9-807F9F779FEE-d94c3902-3536-4bc1-96e9-6d615b34a99b.mov\n",
            "-rw------- 1 root root      151 May 31  2010  AccountSetupInfo_Chris.gdoc\n",
            "-rw------- 1 root root      162 Feb 20  2014 '~$ail this.docx'\n",
            "-rw------- 1 root root   131115 Jul  4 03:03  Albany_avocado.ipynb\n",
            "-rw------- 1 root root   189960 Oct 28 23:09 'Assay Design Take Home.pdf'\n",
            "-rw------- 1 root root  1989197 Oct  1  2019  avocado.csv\n",
            "drwx------ 2 root root     4096 Oct 24 19:24  \u001b[0m\u001b[01;34mBigHospital\u001b[0m/\n",
            "drwx------ 2 root root     4096 Feb 11  2021  \u001b[01;34mBioinformatics\u001b[0m/\n",
            "-rw------- 1 root root  1438422 Nov  5 18:22  Bio_rad_Process.zip\n",
            "drwx------ 2 root root     4096 Nov  6 03:15 \u001b[01;34m'Bio_rad_Process.zip (Unzipped Files)'\u001b[0m/\n",
            "-rw------- 1 root root   393858 Jul  4 04:11  BLM_cities.csv\n",
            "-rw------- 1 root root   115109 Aug  5  2019 'Boston Housing -- Introduction.ipynb'\n",
            "-rw------- 1 root root    99482 Jul 31 03:33 'Boston Housing -- Regularization.ipynb'\n",
            "-rw------- 1 root root    65054 Aug  5  2019 'Boston Housing -- Standardizing + Cross Validation.ipynb'\n",
            "-rw------- 1 root root    24199 Jun  9 19:57 'Cancer Genomics II: Exploring biomarkers of liver cancer in gene expression data using Python.ipynb'\n",
            "-rw------- 1 root root    16556 Feb 17  2021 'Chapter 3- Classification.ipynb'\n",
            "-rw------- 1 root root      151 Dec  9  2009  chris_250_v1.gdoc\n",
            "-rw------- 1 root root    50176 Dec  4  2014 'Chris_NIH biosketch Aug 2013.doc'\n",
            "-rw------- 1 root root      151 Sep  8  2009  Christopher_Gaughan_CV_Latest.gdoc\n",
            "-rw------- 1 root root   172591 May 20  2017  CHRISTOPHER_GAUGHAN.docx\n",
            "-rw------- 1 root root      151 Dec 18  2016  CHRISTOPHER_GAUGHAN.docx.gdoc\n",
            "-rw------- 1 root root    47616 Sep 15  2014  christopher_gaughan_phd.doc\n",
            "-rw------- 1 root root      151 Oct 19  2018  christopher_gaughan_phd.doc.gdoc\n",
            "-rw------- 1 root root    22380 Feb 12  2018 'Christopher Gaughan_Resume_Feb_2018.docx'\n",
            "-rw------- 1 root root    47063 May 19  2017 'C_L_Gaughan__May_Updated copy.docx'\n",
            "drwx------ 2 root root     4096 Aug  3  2019  \u001b[01;34mCode_Acad\u001b[0m/\n",
            "-rw------- 1 root root  7901872 Mar 10  2021  CoffeeBreakPythonSlicing.html\n",
            "-rw------- 1 root root  3653102 Mar 10  2021  CoffeeBreakPythonSlicing.pdf\n",
            "-rw------- 1 root root  1238703 May 15  2016  coi_disclosure.pdf\n",
            "drwx------ 2 root root     4096 May 15  2019 \u001b[01;34m'Colab Notebooks'\u001b[0m/\n",
            "-rw------- 1 root root    38189 May 23  2017 'Copy of C_L_Gaughan__May_Updated copy.docx'\n",
            "-rw------- 1 root root      151 Jul  3 21:22 'Copy of CT Town Geonames (go to File > Make a Copy).gsheet'\n",
            "-rw------- 1 root root      151 Jul 28  2009 'Copy of Scientific Article.gdoc'\n",
            "-rw------- 1 root root      151 Jul  3 21:09 'Copy of Smart Cleanup sample data (go to File > Make a Copy).gsheet'\n",
            "-rw------- 1 root root      151 Jul 27  2009 'Copy of to-do-list.gsheet'\n",
            "-rw------- 1 root root      151 Jul  3 22:20 'Copy of Transpose sample data (go to File > Make a Copy).gsheet'\n",
            "-rw------- 1 root root      151 Sep 21  2009 'Copy of Vaxinnate - Sr. Research Associate, Molecular Biology and.gdoc'\n",
            "-rw------- 1 root root     1517 Sep  7 19:16  covid_19_statewise.csv\n",
            "-rw------- 1 root root    25900 Sep  7 20:45 'Covid_in _India_by State.ipynb'\n",
            "-rw------- 1 root root 34709209 Feb  6  2016 'dane idea.band.zip'\n",
            "-rw------- 1 root root   930626 Aug  3  2019  Data_Cortex_Nuclear.xlsx\n",
            "-rw------- 1 root root      151 Mar 26  2020  Data.gsheet\n",
            "-rw------- 1 root root      151 Aug  4  2020  Dibyendu_code.gsheet\n",
            "-rw------- 1 root root    12100 Aug  4  2020  Dibyendu_code.xlsx\n",
            "-rw------- 1 root root    23452 Jan  2  2021  Fermi.ipynb\n",
            "-rw------- 1 root root      392 Sep  2 01:13 'First Steps with TensorFlow: Programming Exercises.ipynb'\n",
            "-rw------- 1 root root       19 Apr  5  2021  foo.txt\n",
            "-rw------- 1 root root      151 Jan 26  2018 'Gaughan_Christopher_RESUME_January_2018 (1).docx.gdoc'\n",
            "-rw------- 1 root root    34429 Jan 26  2018  Gaughan_Christopher_RESUME_January_2018.docx\n",
            "-rw------- 1 root root      151 Dec 15  2018  Gaughan_Christopher_RESUME_January_2018.docx.gdoc\n",
            "-rw------- 1 root root   165375 Dec 20  2019 'Helix Consultant Agreement Christopher Gaughan Dec 18 2019.pdf'\n",
            "-rw------- 1 root root    80286 Aug  3  2019  his_plots_pie_plots_etc.ipynb\n",
            "-rw------- 1 root root    72374 Nov  8  2014  holy_mackerel.jpg\n",
            "-rw------- 1 root root    27886 May  4  2021  HOML_Classification.ipynb\n",
            "-rw------- 1 root root   853324 Dec 27  2020  Housing.ipynb\n",
            "-rw------- 1 root root   436266 Aug 10  2020  Image_209.pdf\n",
            "-rw------- 1 root root  1139008 Jul  4  2020  IMG_0004.JPG\n",
            "-rw------- 1 root root   244980 Oct 10  2020 'IMG-0985 (1).jpeg'\n",
            "-rw------- 1 root root   244980 Oct 10  2020 'IMG-0985 (2).jpeg'\n",
            "-rw------- 1 root root   244980 Oct 10  2020  IMG-0985.jpeg\n",
            "drwx------ 2 root root     4096 Mar 10  2021  \u001b[01;34mIntermediate_Python\u001b[0m/\n",
            "-rw------- 1 root root     2326 Aug 30 20:52  Intermediate_Python_beyond.ipynb\n",
            "-rw------- 1 root root    32793 Jul  8  2014  Intuit.pdf\n",
            "-rw------- 1 root root      151 May 11  2019 'Invoice_INVJBA1110554 (1).gdoc'\n",
            "-rw------- 1 root root      151 May 11  2019  Invoice_INVJBA1110554.gdoc\n",
            "-rw------- 1 root root   111678 May 11  2019  Invoice_INVJBA1110554.pdf\n",
            "-rw------- 1 root root  1558695 Apr  3  2017 'IPM Np Packet.pdf'\n",
            "drwx------ 2 root root     4096 Nov  5 06:34  \u001b[01;34m.ipynb_checkpoints\u001b[0m/\n",
            "-rw------- 1 root root   107328 Jul 16  2015 'JJ Candidate Rep Agreement--Christopher Gaughan.docx'\n",
            "-rw------- 1 root root      151 Jul 16  2015 'JJ Candidate Rep Agreement--Christopher Gaughan.docx.gdoc'\n",
            "-rw------- 1 root root    11049 Nov 28 04:20 'Kaggle Dog_Breeds.ipynb'\n",
            "-rw------- 1 root root      151 Jul  3 18:05 'Kidnapped!.gdoc'\n",
            "-rw------- 1 root root      151 Jul 28  2009  man2v2.gdoc\n",
            "-rw------- 1 root root      151 Mar 16  2010  March17_Program1.gdoc\n",
            "-rw------- 1 root root   508489 Mar  7  2016 'Membrane proteins.docx'\n",
            "-rw------- 1 root root   267901 Aug  5  2019  ml-notebook-day-2-messy.ipynb\n",
            "-rw------- 1 root root   255850 Aug  5  2019  ml-notebook-messy.ipynb\n",
            "-rw------- 1 root root    24000 Nov 28 20:59 'MNIST- ANALYZE HANDWRITTEN DIGITS.ipynb'\n",
            "-rw------- 1 root root    98205 Jul  2 04:07  MNIST.ipynb\n",
            "-rw------- 1 root root   463850 Sep 29  2014 'Molecular Biology Research Associate Position.pdf'\n",
            "-rw------- 1 root root 12930302 Mar 14  2018 'MTF debridements.key'\n",
            "drwx------ 2 root root     4096 Mar 10  2021  \u001b[01;34mMy_WAR\u001b[0m/\n",
            "-rw------- 1 root root  2114840 Dec  7  2020  National_Poverty_Data_1607328804170.zip\n",
            "drwx------ 2 root root     4096 Jan 19  2021  \u001b[01;34mnotebooks\u001b[0m/\n",
            "-rw------- 1 root root    17068 Nov 18  2014  Order_Form_8498-DN.html\n",
            "-rw------- 1 root root     2875 Jul 19 05:26  pandas_merging_files.ipynb\n",
            "-rw------- 1 root root     3676 Dec 28  2020  Pandas_Notebook_Lambdas_change_columns.ipynb\n",
            "-rw------- 1 root root   337946 Jul 23  2014  photo.JPG\n",
            "-rw------- 1 root root      151 Aug  3  2019  photo.JPG.gdoc\n",
            "-rw------- 1 root root     1113 May 15  2019  PipelineOpt.ipynb\n",
            "-rw------- 1 root root     3132 Jul  9  2018 'PLAN OF ACTION.txt'\n",
            "-rw------- 1 root root      151 Nov 27  2014 'PLAN OF ACTION.txt.gdoc'\n",
            "-rw------- 1 root root   227696 Dec 10  2020  plot_linear_model_coefficient_interpretation.ipynb\n",
            "-rw------- 1 root root    92071 Aug  3  2019 'plotting 2.ipynb'\n",
            "-rw------- 1 root root      151 Dec  8  2009 'Position Profile - Assoc Medical Strategist Final.gdoc'\n",
            "-rw------- 1 root root    13660 Aug  3  2019  power_generated.png\n",
            "-rw------- 1 root root    28064 Jun  3 05:48  Python_data_Cleaning.ipynb\n",
            "-rw------- 1 root root   988337 Aug  5  2019 'Python Numpy-Pandas Intro.ipynb'\n",
            "-rw------- 1 root root      151 Jan 26  2019 'Resume (1).gdoc'\n",
            "-rw------- 1 root root      151 Jan 26  2019 'Resume (2).gdoc'\n",
            "-rw------- 1 root root   108763 Mar 20  2019  Resume320_C_Gaughan.docx\n",
            "-rw------- 1 root root      151 Mar 20  2019  Resume320_C_Gaughan.gdoc\n",
            "-rw------- 1 root root      151 Jan 26  2019 'Resume (3).gdoc'\n",
            "-rw------- 1 root root      151 Jan 26  2019  Resume.gdoc\n",
            "-rw------- 1 root root   493738 Jun  9 19:42  RTCGA_1.22.0.tgz\n",
            "-rw------- 1 root root      151 Dec  4  2014 'SBIR_Phase I_BBB_2014_Introduction.gdoc'\n",
            "-rw------- 1 root root      151 May  4  2021 'Script I.gdoc'\n",
            "-rw------- 1 root root  3429690 Jul 17  2020  seaweed.mp3\n",
            "-rw------- 1 root root 18883662 Sep 27  2020  seaweed.wav\n",
            "-rw------- 1 root root      151 Oct  1 04:44  Story.gdoc\n",
            "-rw------- 1 root root      574 Dec  8  2020  student.zip\n",
            "-rw------- 1 root root      151 Jan 22  2021  summ_eptot.gsheet\n",
            "drwx------ 2 root root     4096 Oct  8 04:52  \u001b[01;34msupervised-learning-w-python-master\u001b[0m/\n",
            "-rw------- 1 root root  5099794 Apr  1  2021  supervised-learning-w-python-master.zip\n",
            "drwx------ 2 root root     4096 Apr  1  2021 \u001b[01;34m'supervised-learning-w-python-master.zip (Unzipped Files)'\u001b[0m/\n",
            "-rw------- 1 root root   190679 Jul  6 01:22  SVM_partial.ipynb\n",
            "-rw------- 1 root root      151 Aug  3  2019 'the lord.gdoc'\n",
            "-rw------- 1 root root   723014 Dec 18  2018 'the lord.htm'\n",
            "-rw------- 1 root root   386731 Oct 20  2020  The_Modern_Python_Challenge.ipynb\n",
            "-rw------- 1 root root  2478951 Oct 19  2018  thing.ogg\n",
            "-rw------- 1 root root      151 May 27  2010 'Timesheet - Lab Support - Piscataway ju14.05.gdoc'\n",
            "-rw------- 1 root root   102400 Jun  7  2020  Titanic_data.tar\n",
            "drwx------ 2 root root     4096 Jun  7  2020 \u001b[01;34m'Titanic_data.zip (Unzipped Files)'\u001b[0m/\n",
            "-rw------- 1 root root   574809 Dec 20  2020  titanic.ipynb\n",
            "-rw------- 1 root root   177722 Aug  5  2019  titanic-notebook-messy.ipynb\n",
            "-rw------- 1 root root    75120 Oct 25 02:03 'Titanic Survivors.ipynb'\n",
            "-rw------- 1 root root  2621357 Feb 10  2016 'train - 2:10:16, 3.26 PM (1).mp3'\n",
            "-rw------- 1 root root  2621357 Feb 18  2016 'train - 2:10:16, 3.26 PM.mp3'\n",
            "drwx------ 2 root root     4096 Feb 19  2021  \u001b[01;34mUDEMY_Nerual_Networks_Deep_learning\u001b[0m/\n",
            "-rw------- 1 root root   775807 Feb 19  2021  UDEMY_OOP.ipynb\n",
            "-rw------- 1 root root    15194 Jul  4 02:30  Untitled10.ipynb\n",
            "-rw------- 1 root root     2567 Jul  4 03:16  Untitled11.ipynb\n",
            "-rw------- 1 root root     4622 Feb 18  2016 'untitled-[1.2].html'\n",
            "-rw------- 1 root root    13985 Jul 15 03:44  Untitled13.ipynb\n",
            "-rw------- 1 root root    42571 Jul 15 07:28  Untitled14.ipynb\n",
            "-rw------- 1 root root     4650 Jul 19 03:05  Untitled15.ipynb\n",
            "-rw------- 1 root root      352 Aug 27 00:32  Untitled16.ipynb\n",
            "-rw------- 1 root root       89 Aug  3  2019  untitled-1.py\n",
            "-rw------- 1 root root      317 Feb 23  2021  Untitled4.ipynb\n",
            "-rw------- 1 root root     3637 Mar 31  2021  Untitled5.ipynb\n",
            "-rw------- 1 root root    19572 Apr 21  2021  Untitled6.ipynb\n",
            "-rw------- 1 root root    73779 May  3  2021  Untitled7.ipynb\n",
            "-rw------- 1 root root    76479 May 28  2021  Untitled8.ipynb\n",
            "-rw------- 1 root root    42497 Jun 29 07:12  Untitled9.ipynb\n",
            "-rw------- 1 root root      151 Jun 14  2020 'Untitled document.gdoc'\n",
            "-rw------- 1 root root      151 Feb 22  2021 'Untitled Jam.gjam'\n",
            "-rw------- 1 root root      151 Mar 26  2020 'Untitled spreadsheet.gsheet'\n",
            "-rw------- 1 root root      151 Sep 21  2009 'Vaxinnate - Sr. Research Associate, Molecular Biology and Protein.gdoc'\n",
            "-rw------- 1 root root   119331 Jan 11  2017 'W9 Form.pdf'\n",
            "-rw------- 1 root root      151 Feb  8  2010 'What are we trying to accomplish rec.gdoc'\n",
            "-rw------- 1 root root    14227 Aug  3  2019  winning_word_lengths.png\n",
            "-rw------- 1 root root 37238757 Sep 29  2017 'wsayyyyyy out (1).band.zip'\n",
            "-rw------- 1 root root 37238757 Oct 14  2018 'wsayyyyyy out.band.zip'\n"
          ]
        }
      ]
    },
    {
      "cell_type": "code",
      "metadata": {
        "colab": {
          "base_uri": "https://localhost:8080/"
        },
        "id": "_8lVutWiV0Bm",
        "outputId": "ebbd9725-311b-4a25-aed4-b2976e8a04ac"
      },
      "source": [
        "cd UDEMY_Nerual_Networks_Deep_learning/"
      ],
      "execution_count": 9,
      "outputs": [
        {
          "output_type": "stream",
          "name": "stdout",
          "text": [
            "/gdrive/My Drive/UDEMY_Nerual_Networks_Deep_learning\n"
          ]
        }
      ]
    },
    {
      "cell_type": "code",
      "metadata": {
        "colab": {
          "base_uri": "https://localhost:8080/"
        },
        "id": "yXRdNU4KV4pO",
        "outputId": "96d5833e-04d1-44c7-9cf9-dd2e19abab67"
      },
      "source": [
        "ls -la"
      ],
      "execution_count": 10,
      "outputs": [
        {
          "output_type": "stream",
          "name": "stdout",
          "text": [
            "total 865\n",
            "-rw------- 1 root root 289424 Feb 24  2021 'Copy of TF2.0 Loading Data.ipynb'\n",
            "-rw------- 1 root root  55849 Feb 22  2021  daily-minimum-temperatures-in-me.csv\n",
            "drwx------ 2 root root   4096 Nov 28 21:29  \u001b[0m\u001b[01;34mdog_test\u001b[0m/\n",
            "drwx------ 2 root root   4096 Nov 28 20:31  \u001b[01;34mdog_train\u001b[0m/\n",
            "-rw------- 1 root root 482063 Nov 28 03:14  labels_Kaggle_dog.csv\n",
            "-rw------- 1 root root  28023 Feb 19  2021  TF2.0Intro.ipynb\n",
            "-rw------- 1 root root  20138 Nov 29 01:37  Untitled0.ipynb\n"
          ]
        }
      ]
    },
    {
      "cell_type": "code",
      "metadata": {
        "colab": {
          "base_uri": "https://localhost:8080/"
        },
        "id": "1cqSgQfOV50w",
        "outputId": "49642c28-ef5b-4518-8d87-40a9cc8f2998"
      },
      "source": [
        "cd dog_test/"
      ],
      "execution_count": 11,
      "outputs": [
        {
          "output_type": "stream",
          "name": "stdout",
          "text": [
            "/gdrive/My Drive/UDEMY_Nerual_Networks_Deep_learning/dog_test\n"
          ]
        }
      ]
    },
    {
      "cell_type": "code",
      "metadata": {
        "colab": {
          "base_uri": "https://localhost:8080/"
        },
        "id": "N40htFH5V-av",
        "outputId": "6e8a2079-dae4-4d84-a58a-3e416e9da91d"
      },
      "source": [
        "cd .."
      ],
      "execution_count": 13,
      "outputs": [
        {
          "output_type": "stream",
          "name": "stdout",
          "text": [
            "/gdrive/My Drive/UDEMY_Nerual_Networks_Deep_learning\n"
          ]
        }
      ]
    },
    {
      "cell_type": "code",
      "metadata": {
        "colab": {
          "base_uri": "https://localhost:8080/"
        },
        "id": "SekR9p1sWKkK",
        "outputId": "79020168-7c2c-42a4-9bd4-bf26868ada09"
      },
      "source": [
        "ls -la"
      ],
      "execution_count": 14,
      "outputs": [
        {
          "output_type": "stream",
          "name": "stdout",
          "text": [
            "total 867\n",
            "-rw------- 1 root root 289424 Feb 24  2021 'Copy of TF2.0 Loading Data.ipynb'\n",
            "-rw------- 1 root root  55849 Feb 22  2021  daily-minimum-temperatures-in-me.csv\n",
            "drwx------ 2 root root   4096 Nov 28 21:29  \u001b[0m\u001b[01;34mdog_test\u001b[0m/\n",
            "drwx------ 2 root root   4096 Nov 28 20:31  \u001b[01;34mdog_train\u001b[0m/\n",
            "-rw------- 1 root root 482063 Nov 28 03:14  labels_Kaggle_dog.csv\n",
            "-rw------- 1 root root  28023 Feb 19  2021  TF2.0Intro.ipynb\n",
            "-rw------- 1 root root  22513 Nov 29 01:38  Untitled0.ipynb\n"
          ]
        }
      ]
    },
    {
      "cell_type": "code",
      "metadata": {
        "id": "EGnLjy0sgON5"
      },
      "source": [
        ""
      ],
      "execution_count": null,
      "outputs": []
    },
    {
      "cell_type": "markdown",
      "metadata": {
        "id": "Gu4Jldn3gQW7"
      },
      "source": [
        "# Get our workspace ready\n",
        "* Import TensorFlow 2.x\n",
        "* Import TensorFlow Hub\n",
        "* Make sure we're using a GPU "
      ]
    },
    {
      "cell_type": "code",
      "metadata": {
        "colab": {
          "base_uri": "https://localhost:8080/"
        },
        "id": "-ucpNcHHWL1v",
        "outputId": "c6ad05d3-4b20-4dcb-f7ab-efeeeab610c9"
      },
      "source": [
        "# Import necessary tools \n",
        "import tensorflow as tf\n",
        "import tensorflow_hub as hub\n",
        "print(\"TF Version: \", tf.__version__)\n",
        "print(\"TF_Hub Version: \", hub.__version__)"
      ],
      "execution_count": 2,
      "outputs": [
        {
          "output_type": "stream",
          "name": "stdout",
          "text": [
            "TF Version:  2.7.0\n",
            "TF_Hub Version:  0.12.0\n"
          ]
        }
      ]
    },
    {
      "cell_type": "markdown",
      "metadata": {
        "id": "X8wQ84rcW_Op"
      },
      "source": [
        "# "
      ]
    },
    {
      "cell_type": "code",
      "metadata": {
        "colab": {
          "base_uri": "https://localhost:8080/"
        },
        "id": "TpaA9y8JjrSS",
        "outputId": "4a85480e-12e2-4681-ea7d-92cacfd09288"
      },
      "source": [
        "# check for GPU availability\n",
        "print(\"GPU\", \"available!\" if tf.config.list_physical_devices(\"GPU\") else \"not available\")"
      ],
      "execution_count": 3,
      "outputs": [
        {
          "output_type": "stream",
          "name": "stdout",
          "text": [
            "GPU available!\n"
          ]
        }
      ]
    },
    {
      "cell_type": "code",
      "metadata": {
        "colab": {
          "base_uri": "https://localhost:8080/"
        },
        "id": "3Wuzk5BllQ-8",
        "outputId": "af0b8269-2a64-42db-c368-eb44ce36db54"
      },
      "source": [
        "ls -la"
      ],
      "execution_count": 4,
      "outputs": [
        {
          "output_type": "stream",
          "name": "stdout",
          "text": [
            "total 16\n",
            "drwxr-xr-x 1 root root 4096 Nov 18 14:36 \u001b[0m\u001b[01;34m.\u001b[0m/\n",
            "drwxr-xr-x 1 root root 4096 Nov 29 02:37 \u001b[01;34m..\u001b[0m/\n",
            "drwxr-xr-x 4 root root 4096 Nov 18 14:35 \u001b[01;34m.config\u001b[0m/\n",
            "drwxr-xr-x 1 root root 4096 Nov 18 14:36 \u001b[01;34msample_data\u001b[0m/\n"
          ]
        }
      ]
    },
    {
      "cell_type": "code",
      "metadata": {
        "id": "-oTQA1KwnOvv"
      },
      "source": [
        ""
      ],
      "execution_count": null,
      "outputs": []
    }
  ]
}