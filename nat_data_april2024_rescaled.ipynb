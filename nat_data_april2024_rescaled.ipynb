{
  "nbformat": 4,
  "nbformat_minor": 0,
  "metadata": {
    "colab": {
      "private_outputs": true,
      "provenance": [],
      "mount_file_id": "17GleEI6ityIX0m9fmymziuUVQMIbMbHp",
      "authorship_tag": "ABX9TyN34eMbfeRDaHstzOuBVOtY",
      "include_colab_link": true
    },
    "kernelspec": {
      "name": "python3",
      "display_name": "Python 3"
    },
    "language_info": {
      "name": "python"
    }
  },
  "cells": [
    {
      "cell_type": "markdown",
      "metadata": {
        "id": "view-in-github",
        "colab_type": "text"
      },
      "source": [
        "<a href=\"https://colab.research.google.com/github/christophergaughan/Machine-Learning/blob/master/nat_data_april2024_rescaled.ipynb\" target=\"_parent\"><img src=\"https://colab.research.google.com/assets/colab-badge.svg\" alt=\"Open In Colab\"/></a>"
      ]
    },
    {
      "cell_type": "markdown",
      "source": [
        "# This analysis is based on the following e-mail from the grad-student Dan Quiggley\n",
        "\n",
        "Dear Chris,\n",
        "\n",
        "This is the human fetal data (week 7 to 17) we would like to analyze for correlations. The first column is the sample name and the other columns are normalized expression values for different transcription factors. We would like to do a similar analysis that we previously did with the mouse data that you did last year and focus on transcription factors that have a positive correlation with ALB or negative correlation with AFP. If we can get that information, we would also like to look at correlation with HNF4A.\n",
        "\n",
        "Best,\n",
        "Dan\n",
        "\n",
        "From Natesh:\n",
        "\n",
        "\"Basically, we are stuck because we are trying to show that the FOXA-TBX3-CEBPA TF gene circuit matters for other’s data, and not just our own.\""
      ],
      "metadata": {
        "id": "_EBcvVMm15UH"
      }
    },
    {
      "cell_type": "code",
      "execution_count": null,
      "metadata": {
        "id": "EpjcAZblyHSW"
      },
      "outputs": [],
      "source": [
        "import pandas as pd"
      ]
    },
    {
      "cell_type": "code",
      "source": [
        "df = pd.read_csv('/content/drive/MyDrive/Colab Notebooks/liver_TF_normalized_week7_17_01_rescaled.csv')"
      ],
      "metadata": {
        "id": "A170LJ5MyRCS"
      },
      "execution_count": null,
      "outputs": []
    },
    {
      "cell_type": "code",
      "source": [
        "df.head()"
      ],
      "metadata": {
        "id": "ewe5ZQ2Jyyes"
      },
      "execution_count": null,
      "outputs": []
    },
    {
      "cell_type": "markdown",
      "source": [
        "# Rename 0th Column to 'Cell Number'"
      ],
      "metadata": {
        "id": "7hcEqs-x0NIJ"
      }
    },
    {
      "cell_type": "code",
      "source": [
        "# Rename the column\n",
        "data = df.rename(columns={'Unnamed: 0': 'Cell_Number'})\n",
        "\n",
        "# Save the updated dataframe back to a CSV file, or continue with analysis\n",
        "data.to_csv('/content/drive/MyDrive/Colab Notebooks/liver_TF_normalized_week7_17_01_rescaled.csv', index=False)  # Save the file if needed"
      ],
      "metadata": {
        "id": "HtOnkkPey0fh"
      },
      "execution_count": null,
      "outputs": []
    },
    {
      "cell_type": "code",
      "source": [
        "data.head()"
      ],
      "metadata": {
        "id": "aCFpOP-M0BZh"
      },
      "execution_count": null,
      "outputs": []
    },
    {
      "cell_type": "markdown",
      "source": [
        "# Look for obvious trends in data"
      ],
      "metadata": {
        "id": "gDB4GtJJ0boW"
      }
    },
    {
      "cell_type": "markdown",
      "source": [
        "To address Dan's request, we'll focus on finding transcription factors that correlate with ALB positively and AFP negatively. Additionally, we'll examine correlations with HNF4A. We'll start by computing the correlation matrix for these specific transcription factors, and then we'll highlight the relationships as requested.\n",
        "\n",
        "Here's how we'll proceed:\n",
        "\n",
        "**Compute the correlation matrix** for the dataset.\n",
        "Extract and focus on the correlations for ALB, AFP, and HNF4A.\n",
        "\n",
        "**Identify transcription factors** with strong positive correlations with ALB, strong negative correlations with AFP, and any notable correlations with HNF4A.\n",
        "Visualize these correlations for a clearer understanding."
      ],
      "metadata": {
        "id": "r-KCvQPd1FY-"
      }
    },
    {
      "cell_type": "code",
      "source": [
        "# Calculate the correlation matrix\n",
        "correlation_matrix = data.iloc[:, 1:].corr()  # Exclude the identifier column\n",
        "\n",
        "# Extract correlations with ALB, AFP, and HNF4A\n",
        "alb_correlations = correlation_matrix['ALB'].sort_values(ascending=False)\n",
        "afp_correlations = correlation_matrix['AFP'].sort_values()\n",
        "hnf4a_correlations = correlation_matrix['HNF4A'].sort_values(ascending=False)\n",
        "\n",
        "# Display top positive correlations with ALB, top negative correlations with AFP, and correlations with HNF4A\n",
        "alb_top_positive = alb_correlations.head(11)  # Top 5 + ALB itself\n",
        "afp_top_negative = afp_correlations.head(6)\n",
        "hnf4a_top = hnf4a_correlations.head(11)  # Top 5 + HNF4A itself\n",
        "\n",
        "alb_top_positive, afp_top_negative, hnf4a_top\n"
      ],
      "metadata": {
        "id": "WN2EkVQA0Dh-"
      },
      "execution_count": null,
      "outputs": []
    },
    {
      "cell_type": "markdown",
      "source": [
        "## Correlation Analysis Results:\n",
        "### Here’s what we found regarding the transcription factors of interest:\n",
        "\n",
        "**Correlations with ALB:**\n",
        "*Top Positively Correlated Transcription Factors:*\n",
        "\n",
        "APOA1: Correlation coefficient of 0.741\n",
        "\n",
        "AFP: Correlation coefficient of 0.603\n",
        "\n",
        "TTR: Correlation coefficient of 0.586\n",
        "\n",
        "PROX1: Correlation coefficient of 0.413\n",
        "\n",
        "ATF5: Correlation coefficient of 0.398\n",
        "\n",
        "**Correlations with AFP:**\n",
        "\n",
        "*Top Negatively Correlated Transcription Factors:*\n",
        "\n",
        "HLX: Correlation coefficient of -0.065\n",
        "\n",
        "CRIP2: Correlation coefficient of -0.059\n",
        "\n",
        "NFIB: Correlation coefficient of -0.055\n",
        "\n",
        "NFIA: Correlation coefficient of -0.054\n",
        "\n",
        "CEBPB: Correlation coefficient of -0.039\n",
        "\n",
        "**Correlations with HNF4A:**\n",
        "\n",
        "*Top Positively Correlated Transcription Factors:*\n",
        "\n",
        "APOA1: Correlation coefficient of 0.234\n",
        "\n",
        "AFP: Correlation coefficient of 0.212\n",
        "\n",
        "PPARA: Correlation coefficient of 0.174\n",
        "\n",
        "TTR: Correlation coefficient of 0.168\n",
        "\n",
        "ALB: Correlation coefficient of 0.158\n",
        "\n",
        "## Observations:\n",
        "**ALB** shows strong positive correlations with other liver-specific proteins such as APOA1, AFP, and TTR, indicating a possible co-regulation in liver function or development.\n",
        "\n",
        "**AFP**, while positively correlated with ALB and HNF4A, shows weak negative correlations with several other factors, though these negative correlations are quite small in magnitude.\n",
        "\n",
        "**HNF4A** correlates positively with several factors associated with liver function, reinforcing its role in liver development and metabolism."
      ],
      "metadata": {
        "id": "fUxf3tzF2pRL"
      }
    },
    {
      "cell_type": "code",
      "source": [
        "import matplotlib.pyplot as plt\n",
        "import seaborn as sns  # Seaborn for enhanced visualization\n",
        "\n",
        "# Function to create enhanced scatter plots with regression line and correlation coefficient\n",
        "def plot_enhanced_correlation(data, tf1, tf2, title):\n",
        "    plt.figure(figsize=(6, 4))\n",
        "    # Scatter plot with regression line\n",
        "    sns.regplot(x=tf1, y=tf2, data=data, scatter_kws={'alpha': 0.5}, line_kws={'color': 'red'})\n",
        "    # Calculate the Pearson correlation coefficient\n",
        "    correlation_coef = data[[tf1, tf2]].corr().iloc[0, 1]\n",
        "    plt.title(f'Correlation between {tf1} and {tf2}: {correlation_coef:.2f}\\n{title}')\n",
        "    plt.xlabel(tf1)\n",
        "    plt.ylabel(tf2)\n",
        "    plt.grid(True)\n",
        "    plt.show()\n",
        "\n",
        "# Examples of enhanced plots\n",
        "plot_enhanced_correlation(data, 'ALB', 'APOA1', 'Positive Correlation')\n",
        "plot_enhanced_correlation(data, 'ALB', 'TTR', 'Positive Correlation')\n",
        "plot_enhanced_correlation(data, 'AFP', 'HLX', 'Negative Correlation')\n",
        "plot_enhanced_correlation(data, 'AFP', 'CRIP2', 'Negative Correlation')\n",
        "plot_enhanced_correlation(data, 'HNF4A', 'APOA1', 'Positive Correlation')\n",
        "plot_enhanced_correlation(data, 'HNF4A', 'PPARA', 'Positive Correlation')\n"
      ],
      "metadata": {
        "id": "YdMadLFA7-PR"
      },
      "execution_count": null,
      "outputs": []
    },
    {
      "cell_type": "markdown",
      "source": [
        "## These plots are hard to read. To better visualize the correlation, especially to distinguish between positive and negative trends, I enhanced the scatter plots with the following techniques:\n",
        "\n",
        "1. **Linear Regression Line**: Adding a linear regression line to the scatter plot can help illustrate the direction and strength of the relationship. This line effectively summarizes the correlation by showing the best fit through the data points.\n",
        "\n",
        "2. **Correlation Coefficient:** Displaying the correlation coefficient on the plot can immediately indicate the strength and direction of the correlation (positive or negative).\n",
        "\n",
        "3. **Density Contours:** For dense plots, adding contours can help show the concentration of points and highlight the trend areas."
      ],
      "metadata": {
        "id": "YgixXBic6CES"
      }
    },
    {
      "cell_type": "markdown",
      "source": [
        "## Detailed Correlation Analysis:\n",
        "Investigate the correlations more deeply to identify any potential regulatory mechanisms or interactions between transcription factors."
      ],
      "metadata": {
        "id": "a9B3wvYl9qbe"
      }
    },
    {
      "cell_type": "markdown",
      "source": [
        "Let's start with hierarchical clustering of the correlation matrix to identify clusters of transcription factors that might be working together."
      ],
      "metadata": {
        "id": "07MPwLnIAGVr"
      }
    },
    {
      "cell_type": "code",
      "source": [
        "import seaborn as sns\n",
        "import matplotlib.pyplot as plt\n",
        "from scipy.cluster import hierarchy\n",
        "\n",
        "# Calculate the correlation matrix\n",
        "correlation_matrix = data.iloc[:, 1:].corr()  # Exclude the sample identifier column\n",
        "\n",
        "# Perform hierarchical clustering\n",
        "hc = hierarchy.linkage(correlation_matrix, method='average')\n",
        "\n",
        "# Plot the dendrogram\n",
        "plt.figure(figsize=(12, 10))\n",
        "dendro = hierarchy.dendrogram(hc, labels=correlation_matrix.columns, leaf_rotation=90)\n",
        "plt.title('Hierarchical Clustering of Transcription Factors')\n",
        "plt.xlabel('Transcription Factors')\n",
        "plt.ylabel('Distance')\n",
        "plt.show()\n"
      ],
      "metadata": {
        "id": "tOLbLbFd9pZU"
      },
      "execution_count": null,
      "outputs": []
    },
    {
      "cell_type": "markdown",
      "source": [],
      "metadata": {
        "id": "H5gvkazEAAwc"
      }
    },
    {
      "cell_type": "markdown",
      "source": [
        "### Interpretation of the Transcription Factor Correlation Network\n",
        "\n",
        "The network visualization created with `networkx` represents transcription factors as nodes and their correlations as edges. The strength and significance of these correlations are visually encoded in the graph. Understanding and interpreting this graph involves considering several key aspects:\n",
        "\n",
        "#### Nodes\n",
        "Each node in the graph represents a transcription factor. The presence of a node indicates that this transcription factor has at least one strong correlation (either positive or negative) with another transcription factor beyond a specified threshold.\n",
        "\n",
        "#### Edges\n",
        "Edges between nodes represent correlations between the transcription factors. The weight of these edges (often shown as the thickness or color intensity of the line) indicates the strength of the correlation:\n",
        "- Thicker or more intensely colored edges represent stronger correlations.\n",
        "- The color scale might represent the nature of the correlation, with one color for positive and another for negative correlations, if differentiated.\n",
        "\n",
        "#### Threshold Significance\n",
        "The threshold value, typically set (e.g., $|\\text{r}| > 0.5$), is critical for determining which correlations are included in the network:\n",
        "- **Threshold Value**: This value is chosen to ensure that only the most significant correlations are visualized, reducing noise from weaker, potentially less meaningful correlations.\n",
        "- **Interpretation**: A higher threshold means that only stronger and potentially more biologically significant interactions are shown. This helps in focusing on the most influential transcription factor interactions.\n",
        "\n",
        "#### Analytical Insights\n",
        "From the network, one can derive insights such as:\n",
        "- **Clusters**: Groups of interconnected nodes (transcription factors) might indicate a regulatory complex or a pathway with closely related functions.\n",
        "- **Hub Nodes**: Nodes with many connections might be key regulators, affecting or being affected by many other transcription factors.\n",
        "- **Isolated Nodes**: Sparse connections or isolated nodes might indicate transcription factors with specific, less integrated roles in the cellular context.\n",
        "\n",
        "#### Biological Relevance\n",
        "To ascertain the biological relevance of the observed patterns:\n",
        "- **Database Validation**: It is advisable to validate interesting findings using biological databases or literature to see if the correlations correspond to known pathways or interactions.\n",
        "- **Experimental Verification**: Ultimately, experimental studies are needed to verify the predicted interactions and their functional implications in biological processes.\n",
        "\n",
        "This network analysis provides a powerful overview of potential regulatory mechanisms and can guide further detailed investigations into the roles of specific transcription factors in biological processes.\n"
      ],
      "metadata": {
        "id": "RjQiRa6ECsrx"
      }
    },
    {
      "cell_type": "markdown",
      "source": [
        "# Interpretation of the Dendrogram in Context of Natesh's Gene Circuit ideas (form **THIS** data:)\n",
        "\n",
        "1. **Cluster Analysis:**\n",
        "\n",
        "* If FOXA, TBX3, and CEBPA cluster closely together, it would suggest that these transcription factors might share similar expression patterns or regulatory inputs, supporting their hypothesized interconnected roles in gene regulation circuits.\n",
        "* If they are distant from each other in the clustering hierarchy, it might indicate that they operate in distinct regulatory pathways or under different regulatory mechanisms, which could challenge or refine the hypothesis.\n",
        "\n",
        "2. **Integration with Other Factors:**\n",
        "\n",
        "* The position of FOXA, TBX3, and CEBPA relative to other transcription factors can provide insights into broader networks. For example, if they cluster with other known key regulators of liver development or function, it would support their critical roles in these processes.\n",
        "\n",
        "* Identifying unexpected clustering with other transcription factors could also uncover new avenues of research or suggest additional components of the gene circuitry that were not previously considered.\n",
        "\n",
        "3. **Distance and Linkage:**\n",
        "\n",
        "* The vertical distance (height of the linkages) between clusters indicates the degree of similarity; shorter distances suggest higher similarity. This can be critical in assessing the strength of the association between different transcription factors.\n",
        "\n",
        "* The methodology used for clustering (e.g., single linkage, complete linkage, average linkage) and the distance metric (e.g., Euclidean, Manhattan) can affect the interpretation, so these should be considered when drawing conclusions from the dendrogram.\n",
        "\n",
        "4. **Potential Insights:**\n",
        "\n",
        "**Support for Gene Ciruit Idea:** If FOXA, TBX3, and CEBPA are closely linked in this hierarchical clustering, it would lend support to Natesh’s hypothesis by indicating a co-regulated nature or shared functional pathways.\n",
        "\n",
        "**Revision of Gene Circuit Idea:** Alternatively, significant distance between these transcription factors in the dendrogram might suggest that the hypothesis needs revision or that the relationships are context-dependent, varying across conditions or cell types that may not have been uniformly sampled or represented in the dataset.\n",
        "\n",
        "**Next Steps for Analysis:**\n",
        "\n",
        "* **Deeper Examination of Clusters:** Analyze the specific biological functions or pathways associated with other transcription factors in the same clusters as FOXA, TBX3, and CEBPA to understand potential mechanisms or interactions.\n",
        "\n",
        "* **Cross-referencing with External Data:** Validate the clustering results with external databases or literature to ensure that the observed patterns reflect known biological relationships and are not artifacts of the dataset or methodology.\n",
        "\n",
        "* **Experimental Validation:** Consider designing experiments to test the regulatory interactions suggested by the clustering, such as gene knockdown or overexpression studies, to observe impacts on other members of the same cluster?"
      ],
      "metadata": {
        "id": "Rr9gkQLwZdaR"
      }
    },
    {
      "cell_type": "code",
      "source": [
        "import networkx as nx\n",
        "\n",
        "# Threshold for strong correlations\n",
        "threshold = 0.5\n",
        "\n",
        "# Create the network\n",
        "G = nx.Graph()\n",
        "\n",
        "# Add nodes and edges based on correlation threshold\n",
        "for col1 in correlation_matrix.columns:\n",
        "    for col2 in correlation_matrix.columns:\n",
        "        if col1 != col2 and abs(correlation_matrix.loc[col1, col2]) > threshold:\n",
        "            G.add_edge(col1, col2, weight=correlation_matrix.loc[col1, col2])\n",
        "\n",
        "# Draw the network\n",
        "plt.figure(figsize=(12, 12))\n",
        "pos = nx.spring_layout(G, seed=42)  # For consistent layout\n",
        "edges = G.edges(data=True)\n",
        "weights = [abs(data['weight']) for _, _, data in edges]\n",
        "nx.draw_networkx(G, pos, edge_color=weights, width=4, edge_cmap=plt.cm.viridis,\n",
        "                 node_color='lightblue', with_labels=True, font_weight='bold')\n",
        "plt.title('Network of Transcription Factors with Strong Correlations')\n",
        "plt.show()\n"
      ],
      "metadata": {
        "id": "zm_2xZkq4uED"
      },
      "execution_count": null,
      "outputs": []
    },
    {
      "cell_type": "markdown",
      "source": [
        "## Discussion of above graph:\n",
        "\n",
        "**ALB (Albumin)** is connected to both **AFP (Alpha-fetoprotein)** and **APOA1 (Apolipoprotein A1)**, and **TTR (Transthyretin)**.\n",
        "*These connections indicate strong correlations between the expression levels of these genes.*\n",
        "\n",
        "1. AFP is directly connected to APOA1 and indirectly to TTR through ALB.\n",
        "\n",
        "2. TTR is linked directly to ALB and indirectly to AFP and APOA1 through ALB.\n",
        "\n",
        "3. The colors of the edges (purple and yellow) could indicate the strength or type of correlation (positive/negative), assuming a color-coding scheme is used to represent this.\n"
      ],
      "metadata": {
        "id": "e-MnfcjtSkLs"
      }
    },
    {
      "cell_type": "markdown",
      "source": [
        "# Discussion of relation to gene circuit that Natesh is interested in.\n",
        "\n",
        "* **Gene Circuit Interest:** The provided network doesn’t specifically include the FOXA, TBX3, and CEBPA transcription factors mentioned by the PI. However, if these genes are part of a broader hypothesis involving liver function or development, then examining their relationships with ALB, AFP, and others shown could be significant.\n",
        "\n",
        "* **Biological Context:** ALB, AFP, and TTR are all significant in liver biology. ALB and AFP are major plasma proteins synthesized in the liver, while APOA1 is a major component of HDL in plasma. Their correlations might reflect shared regulatory mechanisms or responses to similar physiological conditions, potentially valuable in understanding liver function or diseases.\n",
        "\n",
        "* **Broader Implications:** If the goal is to establish the importance of another gene circuit (FOXA-TBX3-CEBPA) and its relevance in the context of other data, showing how these well-known liver-related genes interact could support arguments for the physiological and developmental relevance of the FOXA-TBX3-CEBPA circuit, especially if it can be shown that they are involved in similar or interconnected pathways."
      ],
      "metadata": {
        "id": "lGISXxmMT4PU"
      }
    },
    {
      "cell_type": "code",
      "source": [
        "import seaborn as sns\n",
        "import matplotlib.pyplot as plt\n",
        "import numpy as np\n",
        "\n",
        "# Calculate the correlation matrix\n",
        "correlation_matrix = data.iloc[:, 1:].corr()  # Exclude the sample identifier column\n",
        "\n",
        "# Generate a mask for the upper triangle\n",
        "mask = np.triu(np.ones_like(correlation_matrix, dtype=bool))\n",
        "\n",
        "# Set up the matplotlib figure\n",
        "plt.figure(figsize=(12, 12))\n",
        "\n",
        "# Draw the heatmap with the mask and correct aspect ratio\n",
        "sns.heatmap(correlation_matrix, mask=mask, cmap='coolwarm', vmax=1, vmin=-1, center=0,\n",
        "            square=True, linewidths=1, cbar_kws={\"shrink\": .5}, annot=False)\n",
        "\n",
        "plt.title('Heatmap of Transcription Factor Correlations')\n",
        "plt.show()\n"
      ],
      "metadata": {
        "id": "Xamu1PdK6zLB"
      },
      "execution_count": null,
      "outputs": []
    },
    {
      "cell_type": "code",
      "source": [
        "from sklearn.decomposition import PCA\n",
        "import matplotlib.pyplot as plt\n",
        "\n",
        "# Assuming 'data' is your DataFrame and it's already scaled\n",
        "# If 'data' includes non-numeric data or identifiers, ensure to exclude them as follows:\n",
        "# Assuming the first column is identifiers and needs to be excluded\n",
        "X_scaled = data.iloc[:, 1:].values\n",
        "\n",
        "# Initialize PCA and fit the scaled data\n",
        "pca = PCA(n_components=2)  # Adjust the number of components as needed\n",
        "principal_components = pca.fit_transform(X_scaled)\n",
        "\n",
        "# Create a DataFrame with the principal components\n",
        "pca_df = pd.DataFrame(data=principal_components, columns=['Principal Component 1', 'Principal Component 2'])\n",
        "\n",
        "# Plotting the first two principal components\n",
        "plt.figure(figsize=(8, 6))\n",
        "plt.scatter(pca_df['Principal Component 1'], pca_df['Principal Component 2'])\n",
        "plt.title('PCA Result - First Two Principal Components')\n",
        "plt.xlabel('Principal Component 1')\n",
        "plt.ylabel('Principal Component 2')\n",
        "plt.grid(True)\n",
        "plt.show()\n",
        "\n",
        "# Optionally, check the explained variance ratio to see how much information is captured by the first two components\n",
        "print(f\"Explained variance ratio: {pca.explained_variance_ratio_}\")\n"
      ],
      "metadata": {
        "id": "8UPnyu2rE2Gr"
      },
      "execution_count": null,
      "outputs": []
    },
    {
      "cell_type": "code",
      "source": [
        "from sklearn.decomposition import PCA\n",
        "import matplotlib.pyplot as plt\n",
        "import numpy as np\n",
        "\n",
        "# Assuming 'data' is your DataFrame and it's already scaled\n",
        "X_scaled = data.iloc[:, 1:].values  # Exclude the first column if it's an identifier\n",
        "\n",
        "# Initialize PCA with enough components to capture most variability\n",
        "pca = PCA()\n",
        "principal_components = pca.fit(X_scaled)\n",
        "\n",
        "# Explained variance for each component\n",
        "explained_variance = pca.explained_variance_ratio_\n",
        "\n",
        "# Creating a scree plot\n",
        "plt.figure(figsize=(10, 6))\n",
        "plt.bar(range(1, len(explained_variance) + 1), explained_variance, alpha=0.5, align='center',\n",
        "        label='Individual explained variance')\n",
        "plt.step(range(1, len(explained_variance) + 1), np.cumsum(explained_variance), where='mid',\n",
        "         label='Cumulative explained variance')\n",
        "plt.ylabel('Explained variance ratio')\n",
        "plt.xlabel('Principal components')\n",
        "plt.title('Scree Plot of PCA')\n",
        "plt.legend(loc='best')\n",
        "plt.tight_layout()\n",
        "plt.show()\n"
      ],
      "metadata": {
        "id": "pkjGUgTGKHg0"
      },
      "execution_count": null,
      "outputs": []
    },
    {
      "cell_type": "markdown",
      "source": [
        "# The data has many principal components (like 40)"
      ],
      "metadata": {
        "id": "Ss_tf5aUWZfJ"
      }
    },
    {
      "cell_type": "markdown",
      "source": [
        "# Let's drill down into Natesh's Gene circuit Idea, or try to address them as directly as this data can"
      ],
      "metadata": {
        "id": "i9clv1GIWrLs"
      }
    },
    {
      "cell_type": "markdown",
      "source": [
        "To delve into the hypothesis concerning the FOXA, TBX3, and CEBPA transcription factors (TFs) and their significance in gene regulatory circuits, we can start with a structured analysis that specifically targets these TFs. Here’s how we can approach it:\n",
        "\n",
        "1. **Correlation Analysis**\n",
        "First, we need to analyze the correlations among FOXA, TBX3, and CEBPA, as well as their correlations with other genes in the dataset. This will help us understand their interaction dynamics.\n",
        "\n",
        "2. **Steps to Perform Correlation Analysis:**\n",
        "Extract Data for Relevant Transcription Factors: Isolate the columns for FOXA, TBX3, CEBPA, and any other genes of interest from the dataset.\n",
        "\n",
        "I. **Compute the Correlation Matrix:** Calculate the correlation coefficients among these transcription factors to identify any significant relationships.\n",
        "\n",
        "II. **Visualize the Correlations:** Use a heatmap or correlation matrix plot to visually represent these correlations, making it easier to identify patterns or strong interactions."
      ],
      "metadata": {
        "id": "KFruISIjW6Yc"
      }
    },
    {
      "cell_type": "markdown",
      "source": [
        "# Heatmap"
      ],
      "metadata": {
        "id": "gePD8FFyXYL9"
      }
    },
    {
      "cell_type": "code",
      "source": [
        "import pandas as pd\n",
        "import seaborn as sns\n",
        "import matplotlib.pyplot as plt\n",
        "\n",
        "# Assuming 'data' is your DataFrame and it contains the relevant TFs\n",
        "focus_tfs = ['FOXA1', 'FOXA2', 'TBX3', 'CEBPA']  # Modify 'FOXA1', 'FOXA2' based on the specific FOXA genes involved\n",
        "tf_data = data[focus_tfs]\n",
        "\n",
        "# Compute the correlation matrix\n",
        "correlation_matrix = tf_data.corr()\n",
        "\n",
        "# Plotting the correlation matrix\n",
        "plt.figure(figsize=(8, 6))\n",
        "sns.heatmap(correlation_matrix, annot=True, cmap='coolwarm', linewidths=.5)\n",
        "plt.title('Correlation Matrix of Selected Transcription Factors FOXA1, FOXA2, TBX3, CEBPA')\n",
        "plt.show()\n"
      ],
      "metadata": {
        "id": "o6cbsGTcNM1L"
      },
      "execution_count": null,
      "outputs": []
    },
    {
      "cell_type": "code",
      "source": [],
      "metadata": {
        "id": "_UKtJgiVXos-"
      },
      "execution_count": null,
      "outputs": []
    }
  ]
}